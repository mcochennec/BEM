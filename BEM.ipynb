{
 "cells": [
  {
   "cell_type": "markdown",
   "metadata": {},
   "source": [
    "Some code about BEM (Green's function etc.) (see Pozrikidis 1992)<br />\n",
    "1) 2D Free-space flow Stokeslet :$$G_{ij}=-\\mathrm{ln}(r)\\delta_{ij}+\\frac{\\hat{x}_{i}\\hat{x}_{j}}{r^{2}}$$ <br />\n",
    "2) 2D Free-space stresslet :$$T_{ijk}=-4\\frac{\\hat{x}_{i}\\hat{x}_{j}\\hat{x}_{k}}{r^{4}}$$\n"
   ]
  },
  {
   "cell_type": "code",
   "execution_count": 15,
   "metadata": {
    "collapsed": true
   },
   "outputs": [
    {
     "name": "stdout",
     "output_type": "stream",
     "text": [
      "Gxx= -0.18835830404635173\n",
      "Gyx=Gxy= 0.4941176470588236\n",
      "Gyy= -0.03541712757576354\n",
      "Txxx= -0.5979238754325261\n",
      "Tyyy= -0.9494809688581315\n",
      "Px= 0.7058823529411766\n",
      "Py= 0.8235294117647061\n"
     ]
    }
   ],
   "source": [
    "from math import *\n",
    "\n",
    "#input arguments\n",
    "x = 1.2;\n",
    "y = 1.4;\n",
    "x0 = 0.0;\n",
    "y0 = 0.0;\n",
    "\n",
    "#parameters\n",
    "dx = x-x0;\n",
    "dy = y-y0;\n",
    "\n",
    "dxx = dx*dx;\n",
    "dxy = dx*dy;\n",
    "dyy = dy*dy;\n",
    "\n",
    "r2 = dxx+dyy;\n",
    "r = sqrt(r2);\n",
    "ri2 = 1.0/r2;\n",
    "r1 = log(r);\n",
    "\n",
    "#Stokeslet\n",
    "Gxx = -r1 + dxx*ri2;\n",
    "Gxy =       dxy*ri2;\n",
    "Gyy = -r1 + dyy*ri2;\n",
    "Gyx = Gxy;\n",
    "\n",
    "#Stresslet\n",
    "coef = -4.0/(r2*r2);\n",
    "\n",
    "Txxx = dxx*dx * coef;\n",
    "Txxy = dxy*dx * coef;\n",
    "Tyxx = Txxy;\n",
    "Tyxy = dyy*dx * coef;\n",
    "\n",
    "Txyx = Txxy;\n",
    "Txyy = Tyxy;\n",
    "Tyyx = Txyy;\n",
    "Tyyy = dyy*dy * coef;\n",
    "\n",
    "#Presure\n",
    "coef = 2.0*ri2;\n",
    "Px = dx*coef;\n",
    "Py = dy*coef;\n",
    "\n",
    "#Print\n",
    "\n",
    "print(\"Gxx=\",Gxx)\n",
    "print(\"Gyx=Gxy=\",Gxy)\n",
    "print(\"Gyy=\",Gyy)\n",
    "print(\"Txxx=\",Txxx)\n",
    "print(\"Tyyy=\",Tyyy)\n",
    "print(\"Px=\",Px)\n",
    "print(\"Py=\",Py)"
   ]
  },
  {
   "cell_type": "code",
   "execution_count": null,
   "metadata": {},
   "outputs": [],
   "source": []
  },
  {
   "cell_type": "code",
   "execution_count": null,
   "metadata": {},
   "outputs": [],
   "source": []
  },
  {
   "cell_type": "code",
   "execution_count": null,
   "metadata": {},
   "outputs": [],
   "source": []
  }
 ],
 "metadata": {
  "kernelspec": {
   "display_name": "Python 3",
   "language": "python",
   "name": "python3"
  },
  "language_info": {
   "codemirror_mode": {
    "name": "ipython",
    "version": 3
   },
   "file_extension": ".py",
   "mimetype": "text/x-python",
   "name": "python",
   "nbconvert_exporter": "python",
   "pygments_lexer": "ipython3",
   "version": "3.7.0"
  }
 },
 "nbformat": 4,
 "nbformat_minor": 2
}
